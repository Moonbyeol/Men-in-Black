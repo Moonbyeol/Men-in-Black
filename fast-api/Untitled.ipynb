{
 "cells": [
  {
   "cell_type": "code",
   "execution_count": 9,
   "id": "ea13a3ff-b08a-48b0-a3f9-2f4d31714b57",
   "metadata": {},
   "outputs": [
    {
     "name": "stderr",
     "output_type": "stream",
     "text": [
      "Using cache found in /home/ubuntu/.cache/torch/hub/isl-org_ZoeDepth_main\n",
      "Using cache found in /home/ubuntu/.cache/torch/hub/intel-isl_MiDaS_master\n"
     ]
    },
    {
     "name": "stdout",
     "output_type": "stream",
     "text": [
      "img_size [384, 512]\n",
      "Params passed to Resize transform:\n",
      "\twidth:  512\n",
      "\theight:  384\n",
      "\tresize_target:  True\n",
      "\tkeep_aspect_ratio:  True\n",
      "\tensure_multiple_of:  32\n",
      "\tresize_method:  minimal\n",
      "Using pretrained resource url::https://github.com/isl-org/ZoeDepth/releases/download/v1.0/ZoeD_M12_NK.pt\n",
      "Loaded successfully\n",
      "Running on local URL:  http://127.0.0.1:7863\n",
      "Running on public URL: https://bb85ebe53873f3c423.gradio.live\n",
      "\n",
      "This share link expires in 72 hours. For free permanent hosting and GPU upgrades, run `gradio deploy` from Terminal to deploy to Spaces (https://huggingface.co/spaces)\n"
     ]
    },
    {
     "data": {
      "text/html": [
       "<div><iframe src=\"https://bb85ebe53873f3c423.gradio.live\" width=\"100%\" height=\"500\" allow=\"autoplay; camera; microphone; clipboard-read; clipboard-write;\" frameborder=\"0\" allowfullscreen></iframe></div>"
      ],
      "text/plain": [
       "<IPython.core.display.HTML object>"
      ]
     },
     "metadata": {},
     "output_type": "display_data"
    },
    {
     "data": {
      "text/plain": []
     },
     "execution_count": 9,
     "metadata": {},
     "output_type": "execute_result"
    }
   ],
   "source": [
    "import gradio as gr\n",
    "from gradio_files.zoedepth.gradio_depth_pred import create_demo as create_depth_pred_demo\n",
    "from gradio_files.zoedepth.gradio_im_to_3d import create_demo as create_im_to_3d_demo\n",
    "from gradio_files.zoedepth.gradio_pano_to_3d import create_demo as create_pano_to_3d_demo\n",
    "from gradio_files.zoedepth.gradio_depth_pred_video import create_demo as create_depth_pred_demo_video\n",
    "import torch\n",
    "\n",
    "# Load ZoeDepth Model\n",
    "DEVICE = 'cuda' if torch.cuda.is_available() else 'cpu'\n",
    "depth_model = torch.hub.load('isl-org/ZoeDepth', \"ZoeD_NK\", pretrained=True).to(DEVICE).eval()\n",
    "\n",
    "def update(name):\n",
    "    return f\"Welcome to Gradio, {name}!\"\n",
    "\n",
    "with gr.Blocks() as demo:\n",
    "    with gr.Tab(\"Image Depth Prediction\"):\n",
    "        create_depth_pred_demo(depth_model)\n",
    "    with gr.Tab(\"Video Depth Prediction\"):\n",
    "        create_depth_pred_demo_video(depth_model)\n",
    "    with gr.Tab(\"Image to 3D\"):\n",
    "        create_im_to_3d_demo(depth_model)\n",
    "    with gr.Tab(\"360 Panorama to 3D\"):\n",
    "        create_pano_to_3d_demo(depth_model)\n",
    "\n",
    "demo.launch(share=True)"
   ]
  },
  {
   "cell_type": "code",
   "execution_count": null,
   "id": "c9c61f7a-13d2-4010-b3ca-6b12dc1b7b97",
   "metadata": {},
   "outputs": [],
   "source": []
  }
 ],
 "metadata": {
  "kernelspec": {
   "display_name": "Python 3 (ipykernel)",
   "language": "python",
   "name": "python3"
  },
  "language_info": {
   "codemirror_mode": {
    "name": "ipython",
    "version": 3
   },
   "file_extension": ".py",
   "mimetype": "text/x-python",
   "name": "python",
   "nbconvert_exporter": "python",
   "pygments_lexer": "ipython3",
   "version": "3.10.9"
  }
 },
 "nbformat": 4,
 "nbformat_minor": 5
}
