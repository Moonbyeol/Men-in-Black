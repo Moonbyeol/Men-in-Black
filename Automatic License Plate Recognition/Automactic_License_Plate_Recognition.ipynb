{
 "cells": [
  {
   "cell_type": "markdown",
   "id": "74e9dbe4-cf73-4438-99e8-7e97830cad4b",
   "metadata": {},
   "source": [
    "## Import Libraries and Initialize Objects"
   ]
  },
  {
   "cell_type": "code",
   "execution_count": 3,
   "id": "8e61c83f-a19a-4b72-9b08-ad3dcd300c31",
   "metadata": {},
   "outputs": [
    {
     "name": "stderr",
     "output_type": "stream",
     "text": [
      "/Users/syshin/Desktop/Syshin/Men-in-Black/Automatic License Plate Recognition/venv/lib/python3.9/site-packages/urllib3/__init__.py:34: NotOpenSSLWarning: urllib3 v2.0 only supports OpenSSL 1.1.1+, currently the 'ssl' module is compiled with 'LibreSSL 2.8.3'. See: https://github.com/urllib3/urllib3/issues/3020\n",
      "  warnings.warn(\n",
      "Using CPU. Note: This module is much faster with a GPU.\n"
     ]
    }
   ],
   "source": [
    "from ultralytics import YOLO\n",
    "import cv2\n",
    "import numpy as np\n",
    "\n",
    "# Assuming util and sort are custom modules you have access to\n",
    "import util\n",
    "from sort.sort import *\n",
    "from util import get_car, read_license_plate, write_csv\n",
    "\n",
    "import csv\n",
    "import numpy as np\n",
    "from scipy.interpolate import interp1d\n",
    "\n",
    "import ast\n",
    "from tqdm import tqdm\n",
    "\n",
    "import numpy as np\n",
    "import pandas as pd\n",
    "\n",
    "from IPython.display import display, Image\n",
    "import PIL"
   ]
  },
  {
   "cell_type": "markdown",
   "id": "073a177d-56b0-4f60-9276-fa0ca020335b",
   "metadata": {},
   "source": [
    "### Initilize SORT tracker and Load Models"
   ]
  },
  {
   "cell_type": "code",
   "execution_count": 7,
   "id": "12185f8f-d5cb-44bc-b271-73bf143bdfc3",
   "metadata": {},
   "outputs": [],
   "source": [
    "mot_tracker = Sort()\n",
    "coco_model = YOLO('yolov8n.pt')\n",
    "license_plate_detector = YOLO('models/11-08_best_weight_yolov8m_50_epoch.pt')\n",
    "\n",
    "# Load the video\n",
    "cap = cv2.VideoCapture('./sample.mp4')\n"
   ]
  },
  {
   "cell_type": "markdown",
   "id": "1b07b9cd-0022-4071-acfe-a545a7ef4142",
   "metadata": {},
   "source": [
    "## Process a Limited Number of Frames"
   ]
  },
  {
   "cell_type": "code",
   "execution_count": 8,
   "id": "0f56cc22-9f0f-4f22-b348-e478f30ddbe0",
   "metadata": {},
   "outputs": [
    {
     "data": {
      "application/vnd.jupyter.widget-view+json": {
       "model_id": "7b4e5ba4140f40b3b0c70f7f054c3dda",
       "version_major": 2,
       "version_minor": 0
      },
      "text/plain": [
       "FloatSlider(value=0.5, description='Threshold:', max=1.0, step=0.01)"
      ]
     },
     "metadata": {},
     "output_type": "display_data"
    }
   ],
   "source": [
    "import ipywidgets as widgets\n",
    "from IPython.display import display\n",
    "\n",
    "threshold_slider = widgets.FloatSlider(value=0.5, min=0, max=1, step=0.01, description='Threshold:')\n",
    "display(threshold_slider)"
   ]
  },
  {
   "cell_type": "code",
   "execution_count": 12,
   "id": "85ea13d1-77f8-4444-99c6-9fb5e3f6922c",
   "metadata": {},
   "outputs": [],
   "source": [
    "def show_image(img):\n",
    "    _, encoded_image = cv2.imencode('.png', img)\n",
    "    display(Image(data=encoded_image.tobytes()))"
   ]
  },
  {
   "cell_type": "code",
   "execution_count": 2,
   "id": "e6538fa0-6107-44d9-9138-89718b75a524",
   "metadata": {},
   "outputs": [
    {
     "ename": "NameError",
     "evalue": "name 'cap' is not defined",
     "output_type": "error",
     "traceback": [
      "\u001b[0;31m---------------------------------------------------------------------------\u001b[0m",
      "\u001b[0;31mNameError\u001b[0m                                 Traceback (most recent call last)",
      "Cell \u001b[0;32mIn[2], line 7\u001b[0m\n\u001b[1;32m      5\u001b[0m end_frame \u001b[38;5;241m=\u001b[39m \u001b[38;5;241m105\u001b[39m\n\u001b[1;32m      6\u001b[0m \u001b[38;5;28;01mfor\u001b[39;00m frame_nmr \u001b[38;5;129;01min\u001b[39;00m \u001b[38;5;28mrange\u001b[39m(start_frame, end_frame):\n\u001b[0;32m----> 7\u001b[0m     ret, frame \u001b[38;5;241m=\u001b[39m \u001b[43mcap\u001b[49m\u001b[38;5;241m.\u001b[39mread()\n\u001b[1;32m      8\u001b[0m     \u001b[38;5;28;01mif\u001b[39;00m \u001b[38;5;129;01mnot\u001b[39;00m ret:\n\u001b[1;32m      9\u001b[0m         \u001b[38;5;28;01mbreak\u001b[39;00m  \u001b[38;5;66;03m# Break the loop if no frame is returned\u001b[39;00m\n",
      "\u001b[0;31mNameError\u001b[0m: name 'cap' is not defined"
     ]
    }
   ],
   "source": [
    "results = {}\n",
    "vehicles = [1, 2, 3, 5, 7]  # Class IDs for vehicles\n",
    "\n",
    "start_frame = 100\n",
    "end_frame = 105\n",
    "for frame_nmr in range(start_frame, end_frame):\n",
    "    ret, frame = cap.read()\n",
    "    if not ret:\n",
    "        break  # Break the loop if no frame is returned\n",
    "\n",
    "    results[frame_nmr] = {}\n",
    "    # detect vehicles\n",
    "    detections = coco_model(frame, device='mps')[0]\n",
    "    detections_ = []\n",
    "    for detection in detections.boxes.data.tolist():\n",
    "        x1, y1, x2, y2, score, class_id = detection\n",
    "        if int(class_id) in vehicles:\n",
    "            detections_.append([x1, y1, x2, y2, score])\n",
    "\n",
    "    # track vehicles\n",
    "    track_ids = mot_tracker.update(np.asarray(detections_))\n",
    "\n",
    "    # detect license plates\n",
    "    license_plates = license_plate_detector(frame)[0]\n",
    "    for license_plate in license_plates.boxes.data.tolist():\n",
    "        x1, y1, x2, y2, score, class_id = license_plate\n",
    "\n",
    "        # assign license plate to car\n",
    "        xcar1, ycar1, xcar2, ycar2, car_id = get_car(license_plate, track_ids)\n",
    "        \n",
    "        print(car_id)\n",
    "        if car_id != -1:\n",
    "            # crop license plate\n",
    "            license_plate_crop = frame[int(y1):int(y2), int(x1):int(x2), :]\n",
    "\n",
    "            # process license plate\n",
    "            license_plate_crop_gray = cv2.cvtColor(license_plate_crop, cv2.COLOR_BGR2GRAY)\n",
    "            _, license_plate_crop_thresh = cv2.threshold(license_plate_crop_gray, 64, 255, cv2.THRESH_BINARY_INV)\n",
    "\n",
    "            # read license plate number\n",
    "            license_plate_text, license_plate_text_score = read_license_plate(license_plate_crop_thresh)\n",
    "\n",
    "            if license_plate_text is not None:\n",
    "                results[frame_nmr][car_id] = {'car': {'bbox': [xcar1, ycar1, xcar2, ycar2]},\n",
    "                                              'license_plate': {'bbox': [x1, y1, x2, y2],\n",
    "                                                                'text': license_plate_text,\n",
    "                                                                'bbox_score': score,\n",
    "                                                                'text_score': license_plate_text_score}}\n",
    "    # Display the processed frame\n",
    "    show_image(frame)\n",
    "    # Optionally visualize the frame here using show_image(frame)\n"
   ]
  },
  {
   "cell_type": "code",
   "execution_count": 5,
   "id": "76e8b9f5-6d24-41fc-be3a-e8ea5ab0086a",
   "metadata": {},
   "outputs": [],
   "source": [
    "# Close the video file\n",
    "cap.release()\n",
    "\n",
    "# Optionally, write results to CSV\n",
    "write_csv(results, './test.csv')"
   ]
  },
  {
   "cell_type": "markdown",
   "id": "9d8d130f-4c0e-49ee-baa1-75a75e1660bb",
   "metadata": {},
   "source": [
    "## interpolate bounding boxes"
   ]
  },
  {
   "cell_type": "code",
   "execution_count": 6,
   "id": "4f1ae867-9ff7-4873-9b58-5619129c3e82",
   "metadata": {},
   "outputs": [],
   "source": [
    "def interpolate_bounding_boxes(data):\n",
    "    # Extract necessary data columns from input data\n",
    "    frame_numbers = np.array([int(row['frame_nmr']) for row in data])\n",
    "    car_ids = np.array([int(float(row['car_id'])) for row in data])\n",
    "    car_bboxes = np.array([list(map(float, row['car_bbox'][1:-1].split())) for row in data])\n",
    "    license_plate_bboxes = np.array([list(map(float, row['license_plate_bbox'][1:-1].split())) for row in data])\n",
    "\n",
    "    interpolated_data = []\n",
    "    unique_car_ids = np.unique(car_ids)\n",
    "    for car_id in unique_car_ids:\n",
    "\n",
    "        frame_numbers_ = [p['frame_nmr'] for p in data if int(float(p['car_id'])) == int(float(car_id))]\n",
    "        print(frame_numbers_, car_id)\n",
    "\n",
    "        # Filter data for a specific car ID\n",
    "        car_mask = car_ids == car_id\n",
    "        car_frame_numbers = frame_numbers[car_mask]\n",
    "        car_bboxes_interpolated = []\n",
    "        license_plate_bboxes_interpolated = []\n",
    "\n",
    "        first_frame_number = car_frame_numbers[0]\n",
    "        last_frame_number = car_frame_numbers[-1]\n",
    "\n",
    "        for i in range(len(car_bboxes[car_mask])):\n",
    "            frame_number = car_frame_numbers[i]\n",
    "            car_bbox = car_bboxes[car_mask][i]\n",
    "            license_plate_bbox = license_plate_bboxes[car_mask][i]\n",
    "\n",
    "            if i > 0:\n",
    "                prev_frame_number = car_frame_numbers[i-1]\n",
    "                prev_car_bbox = car_bboxes_interpolated[-1]\n",
    "                prev_license_plate_bbox = license_plate_bboxes_interpolated[-1]\n",
    "\n",
    "                if frame_number - prev_frame_number > 1:\n",
    "                    # Interpolate missing frames' bounding boxes\n",
    "                    frames_gap = frame_number - prev_frame_number\n",
    "                    x = np.array([prev_frame_number, frame_number])\n",
    "                    x_new = np.linspace(prev_frame_number, frame_number, num=frames_gap, endpoint=False)\n",
    "                    interp_func = interp1d(x, np.vstack((prev_car_bbox, car_bbox)), axis=0, kind='linear')\n",
    "                    interpolated_car_bboxes = interp_func(x_new)\n",
    "                    interp_func = interp1d(x, np.vstack((prev_license_plate_bbox, license_plate_bbox)), axis=0, kind='linear')\n",
    "                    interpolated_license_plate_bboxes = interp_func(x_new)\n",
    "\n",
    "                    car_bboxes_interpolated.extend(interpolated_car_bboxes[1:])\n",
    "                    license_plate_bboxes_interpolated.extend(interpolated_license_plate_bboxes[1:])\n",
    "\n",
    "            car_bboxes_interpolated.append(car_bbox)\n",
    "            license_plate_bboxes_interpolated.append(license_plate_bbox)\n",
    "\n",
    "        for i in range(len(car_bboxes_interpolated)):\n",
    "            frame_number = first_frame_number + i\n",
    "            row = {}\n",
    "            row['frame_nmr'] = str(frame_number)\n",
    "            row['car_id'] = str(car_id)\n",
    "            row['car_bbox'] = ' '.join(map(str, car_bboxes_interpolated[i]))\n",
    "            row['license_plate_bbox'] = ' '.join(map(str, license_plate_bboxes_interpolated[i]))\n",
    "\n",
    "            if str(frame_number) not in frame_numbers_:\n",
    "                # Imputed row, set the following fields to '0'\n",
    "                row['license_plate_bbox_score'] = '0'\n",
    "                row['license_number'] = '0'\n",
    "                row['license_number_score'] = '0'\n",
    "            else:\n",
    "                # Original row, retrieve values from the input data if available\n",
    "                original_row = [p for p in data if int(p['frame_nmr']) == frame_number and int(float(p['car_id'])) == int(float(car_id))][0]\n",
    "                row['license_plate_bbox_score'] = original_row['license_plate_bbox_score'] if 'license_plate_bbox_score' in original_row else '0'\n",
    "                row['license_number'] = original_row['license_number'] if 'license_number' in original_row else '0'\n",
    "                row['license_number_score'] = original_row['license_number_score'] if 'license_number_score' in original_row else '0'\n",
    "\n",
    "            interpolated_data.append(row)\n",
    "\n",
    "    return interpolated_data\n"
   ]
  },
  {
   "cell_type": "code",
   "execution_count": 7,
   "id": "416705e2-f74a-449d-989e-c3aac2484208",
   "metadata": {},
   "outputs": [],
   "source": [
    "# Load the CSV file\n",
    "with open('test.csv', 'r') as file:\n",
    "    reader = csv.DictReader(file)\n",
    "    data = list(reader)\n",
    "\n",
    "# Interpolate missing data\n",
    "interpolated_data = interpolate_bounding_boxes(data)\n",
    "\n",
    "# Write updated data to a new CSV file\n",
    "header = ['frame_nmr', 'car_id', 'car_bbox', 'license_plate_bbox', 'license_plate_bbox_score', 'license_number', 'license_number_score']\n",
    "with open('test_interpolated.csv', 'w', newline='') as file:\n",
    "    writer = csv.DictWriter(file, fieldnames=header)\n",
    "    writer.writeheader()\n",
    "    writer.writerows(interpolated_data)\n"
   ]
  },
  {
   "cell_type": "markdown",
   "id": "495d3277-62ce-4b62-b8a8-c0a5525a031d",
   "metadata": {},
   "source": [
    "## Visualize"
   ]
  },
  {
   "cell_type": "code",
   "execution_count": 9,
   "id": "b727e605-81e4-4599-b4c6-fffbbdd74dfa",
   "metadata": {},
   "outputs": [],
   "source": [
    "def draw_border(img, top_left, bottom_right, color=(0, 255, 0), thickness=10, line_length_x=200, line_length_y=200):\n",
    "    x1, y1 = top_left\n",
    "    x2, y2 = bottom_right\n",
    "\n",
    "    cv2.line(img, (x1, y1), (x1, y1 + line_length_y), color, thickness)  #-- top-left\n",
    "    cv2.line(img, (x1, y1), (x1 + line_length_x, y1), color, thickness)\n",
    "\n",
    "    cv2.line(img, (x1, y2), (x1, y2 - line_length_y), color, thickness)  #-- bottom-left\n",
    "    cv2.line(img, (x1, y2), (x1 + line_length_x, y2), color, thickness)\n",
    "\n",
    "    cv2.line(img, (x2, y1), (x2 - line_length_x, y1), color, thickness)  #-- top-right\n",
    "    cv2.line(img, (x2, y1), (x2, y1 + line_length_y), color, thickness)\n",
    "\n",
    "    cv2.line(img, (x2, y2), (x2, y2 - line_length_y), color, thickness)  #-- bottom-right\n",
    "    cv2.line(img, (x2, y2), (x2 - line_length_x, y2), color, thickness)\n",
    "\n",
    "    return img"
   ]
  },
  {
   "cell_type": "code",
   "execution_count": 14,
   "id": "3918775e-9e81-4f50-b434-cea839130662",
   "metadata": {},
   "outputs": [],
   "source": [
    "results = pd.read_csv('./test_interpolated.csv')\n",
    "video_path = 'sample.mp4'\n",
    "cap = cv2.VideoCapture(video_path)\n",
    "fourcc = cv2.VideoWriter_fourcc(*'mp4v')\n",
    "fps = cap.get(cv2.CAP_PROP_FPS)\n",
    "width = int(cap.get(cv2.CAP_PROP_FRAME_WIDTH))\n",
    "height = int(cap.get(cv2.CAP_PROP_FRAME_HEIGHT))\n",
    "out = cv2.VideoWriter('sample_out.mp4', fourcc, fps, (width, height))\n",
    "detection_threshold = 0.5  # Example threshold parameter"
   ]
  },
  {
   "cell_type": "code",
   "execution_count": 15,
   "id": "9fd06207-f55a-478e-8962-29229b1cfe9c",
   "metadata": {},
   "outputs": [],
   "source": [
    "license_plate = {}\n",
    "for car_id in np.unique(results['car_id']):\n",
    "    max_ = np.amax(results[results['car_id'] == car_id]['license_number_score'])\n",
    "    license_plate[car_id] = {'license_crop': None,\n",
    "                             'license_plate_number': results[(results['car_id'] == car_id) &\n",
    "                                                             (results['license_number_score'] == max_)]['license_number'].iloc[0]}\n",
    "    cap.set(cv2.CAP_PROP_POS_FRAMES, results[(results['car_id'] == car_id) &\n",
    "                                             (results['license_number_score'] == max_)]['frame_nmr'].iloc[0])\n",
    "    ret, frame = cap.read()\n",
    "\n",
    "    x1, y1, x2, y2 = ast.literal_eval(results[(results['car_id'] == car_id) &\n",
    "                                              (results['license_number_score'] == max_)]['license_plate_bbox'].iloc[0].replace('[ ', '[').replace('   ', ' ').replace('  ', ' ').replace(' ', ','))\n",
    "\n",
    "    license_crop = frame[int(y1):int(y2), int(x1):int(x2), :]\n",
    "    license_crop = cv2.resize(license_crop, (int((x2 - x1) * 400 / (y2 - y1)), 400))\n",
    "\n",
    "    license_plate[car_id]['license_crop'] = license_crop"
   ]
  },
  {
   "cell_type": "code",
   "execution_count": 16,
   "id": "bd288141-dd6c-4391-9a2e-fe2bed0c7bdb",
   "metadata": {},
   "outputs": [
    {
     "name": "stderr",
     "output_type": "stream",
     "text": [
      "Processing video frames: 100%|████████████████████████████████████████| 3600/3600 [03:18<00:00, 18.17it/s]\n"
     ]
    }
   ],
   "source": [
    "frame_nmr = -1\n",
    "total_frames = int(cap.get(cv2.CAP_PROP_FRAME_COUNT))\n",
    "cap.set(cv2.CAP_PROP_POS_FRAMES, 0)\n",
    "\n",
    "# read frames\n",
    "ret = True\n",
    "for frame_nmr in tqdm(range(total_frames), desc='Processing video frames'):\n",
    "    ret, frame = cap.read()\n",
    "    if not ret:\n",
    "        break  # If no frame is returned, break out of the loop.\n",
    "\n",
    "    df_ = results[results['frame_nmr'] == frame_nmr]\n",
    "    for row_indx in range(len(df_)):\n",
    "        # draw car\n",
    "        car_x1, car_y1, car_x2, car_y2 = ast.literal_eval(df_.iloc[row_indx]['car_bbox'].replace('[ ', '[').replace('   ', ' ').replace('  ', ' ').replace(' ', ','))\n",
    "        draw_border(frame, (int(car_x1), int(car_y1)), (int(car_x2), int(car_y2)), (0, 255, 0), 25,\n",
    "                    line_length_x=200, line_length_y=200)\n",
    "\n",
    "        # draw license plate\n",
    "        x1, y1, x2, y2 = ast.literal_eval(df_.iloc[row_indx]['license_plate_bbox'].replace('[ ', '[').replace('   ', ' ').replace('  ', ' ').replace(' ', ','))\n",
    "        cv2.rectangle(frame, (int(x1), int(y1)), (int(x2), int(y2)), (0, 0, 255), 12)\n",
    "\n",
    "        # crop license plate\n",
    "        license_crop = license_plate[df_.iloc[row_indx]['car_id']]['license_crop']\n",
    "\n",
    "        H, W, _ = license_crop.shape\n",
    "\n",
    "        try:\n",
    "            frame[int(car_y1) - H - 100:int(car_y1) - 100,\n",
    "                  int((car_x2 + car_x1 - W) / 2):int((car_x2 + car_x1 + W) / 2), :] = license_crop\n",
    "\n",
    "            frame[int(car_y1) - H - 400:int(car_y1) - H - 100,\n",
    "                  int((car_x2 + car_x1 - W) / 2):int((car_x2 + car_x1 + W) / 2), :] = (255, 255, 255)\n",
    "\n",
    "            (text_width, text_height), _ = cv2.getTextSize(\n",
    "                license_plate[df_.iloc[row_indx]['car_id']]['license_plate_number'],\n",
    "                cv2.FONT_HERSHEY_SIMPLEX,\n",
    "                4.3,\n",
    "                17)\n",
    "\n",
    "            cv2.putText(frame,\n",
    "                        license_plate[df_.iloc[row_indx]['car_id']]['license_plate_number'],\n",
    "                        (int((car_x2 + car_x1 - text_width) / 2), int(car_y1 - H - 250 + (text_height / 2))),\n",
    "                        cv2.FONT_HERSHEY_SIMPLEX,\n",
    "                        4.3,\n",
    "                        (0, 0, 0),\n",
    "                        17)\n",
    "\n",
    "        except:\n",
    "            pass\n",
    "\n",
    "    out.write(frame)\n",
    "    frame = cv2.resize(frame, (1280, 720))\n",
    "\n",
    "    # cv2.imshow('frame', frame)\n",
    "    # cv2.waitKey(0)\n"
   ]
  },
  {
   "cell_type": "code",
   "execution_count": 17,
   "id": "207c7506-0d49-471b-b353-8acb58d052e4",
   "metadata": {},
   "outputs": [],
   "source": [
    "out.release()\n",
    "cap.release()"
   ]
  },
  {
   "cell_type": "code",
   "execution_count": null,
   "id": "42d7c606-a948-4114-a404-71fdf4b83a76",
   "metadata": {},
   "outputs": [],
   "source": [
    "pip install ipywidgets --upgrade"
   ]
  },
  {
   "cell_type": "code",
   "execution_count": 5,
   "id": "6b1cdafa-cfc0-4430-800b-39d426bb1ea6",
   "metadata": {},
   "outputs": [
    {
     "name": "stdout",
     "output_type": "stream",
     "text": [
      "Config option `kernel_spec_manager_class` not recognized by `ListLabExtensionsApp`.\n",
      "\u001b[33m[W 2023-11-13 10:06:37.201 LabApp]\u001b[m Config option `kernel_spec_manager_class` not recognized by `LabApp`.\n",
      "JupyterLab v3.4.2\n",
      "/Users/syshin/miniforge3/share/jupyter/labextensions\n",
      "        jupyterlab-jupytext v1.3.9 \u001b[32menabled\u001b[0m \u001b[32mOK\u001b[0m (python, jupytext)\n",
      "        jupyterlab_pygments v0.2.2 \u001b[32menabled\u001b[0m \u001b[32mOK\u001b[0m (python, jupyterlab_pygments)\n",
      "        jupyterlab-plotly v5.14.1 \u001b[32menabled\u001b[0m \u001b[32mOK\u001b[0m\n",
      "        @jupyter-widgets/jupyterlab-manager v3.1.0 \u001b[32menabled\u001b[0m \u001b[32mOK\u001b[0m (python, jupyterlab_widgets)\n",
      "\n",
      "Other labextensions (built into JupyterLab)\n",
      "   app dir: /Users/syshin/miniforge3/share/jupyter/lab\n",
      "        jupyterlab-dash v0.4.2 \u001b[32menabled\u001b[0m \u001b[32mOK\u001b[0m\n",
      "\n",
      "\n",
      "The following source extensions are overshadowed by older prebuilt extensions:\n",
      "    @jupyter-widgets/jupyterlab-manager\n"
     ]
    }
   ],
   "source": [
    "!jupyter labextension list"
   ]
  },
  {
   "cell_type": "code",
   "execution_count": 4,
   "id": "94fd4c22-0cca-4ef5-9392-5cbc195b9269",
   "metadata": {},
   "outputs": [
    {
     "name": "stdout",
     "output_type": "stream",
     "text": [
      "Collecting jupyterlab_widgets\n",
      "  Obtaining dependency information for jupyterlab_widgets from https://files.pythonhosted.org/packages/e8/05/0ebab152288693b5ec7b339aab857362947031143b282853b4c2dd4b5b40/jupyterlab_widgets-3.0.9-py3-none-any.whl.metadata\n",
      "  Using cached jupyterlab_widgets-3.0.9-py3-none-any.whl.metadata (4.1 kB)\n",
      "Using cached jupyterlab_widgets-3.0.9-py3-none-any.whl (214 kB)\n",
      "Installing collected packages: jupyterlab_widgets\n",
      "Successfully installed jupyterlab_widgets-3.0.9\n",
      "\n",
      "\u001b[1m[\u001b[0m\u001b[34;49mnotice\u001b[0m\u001b[1;39;49m]\u001b[0m\u001b[39;49m A new release of pip is available: \u001b[0m\u001b[31;49m23.2.1\u001b[0m\u001b[39;49m -> \u001b[0m\u001b[32;49m23.3.1\u001b[0m\n",
      "\u001b[1m[\u001b[0m\u001b[34;49mnotice\u001b[0m\u001b[1;39;49m]\u001b[0m\u001b[39;49m To update, run: \u001b[0m\u001b[32;49mpip install --upgrade pip\u001b[0m\n"
     ]
    }
   ],
   "source": [
    "!pip install jupyterlab_widgets"
   ]
  },
  {
   "cell_type": "code",
   "execution_count": 5,
   "id": "cd213256-f1ef-4728-a3b1-65a932409b2a",
   "metadata": {},
   "outputs": [
    {
     "name": "stdout",
     "output_type": "stream",
     "text": [
      "Config option `kernel_spec_manager_class` not recognized by `ListLabExtensionsApp`.\n",
      "\u001b[33m[W 2023-11-13 10:09:56.719 LabApp]\u001b[m Config option `kernel_spec_manager_class` not recognized by `LabApp`.\n",
      "JupyterLab v3.4.2\n",
      "/Users/syshin/miniforge3/share/jupyter/labextensions\n",
      "        jupyterlab-jupytext v1.3.9 \u001b[32menabled\u001b[0m \u001b[32mOK\u001b[0m (python, jupytext)\n",
      "        jupyterlab_pygments v0.2.2 \u001b[32menabled\u001b[0m \u001b[32mOK\u001b[0m (python, jupyterlab_pygments)\n",
      "        jupyterlab-plotly v5.14.1 \u001b[32menabled\u001b[0m \u001b[32mOK\u001b[0m\n",
      "        @jupyter-widgets/jupyterlab-manager v5.0.9 \u001b[32menabled\u001b[0m \u001b[32mOK\u001b[0m (python, jupyterlab_widgets)\n",
      "\n",
      "Other labextensions (built into JupyterLab)\n",
      "   app dir: /Users/syshin/miniforge3/share/jupyter/lab\n",
      "        jupyterlab-dash v0.4.2 \u001b[32menabled\u001b[0m \u001b[32mOK\u001b[0m\n",
      "\n"
     ]
    }
   ],
   "source": [
    "!jupyter labextension list"
   ]
  },
  {
   "cell_type": "code",
   "execution_count": 3,
   "id": "f8cc6ad3-60d0-4372-afd2-4fe3e935067e",
   "metadata": {},
   "outputs": [
    {
     "name": "stdout",
     "output_type": "stream",
     "text": [
      "3.9.6 (default, Aug 11 2023, 19:44:49) \n",
      "[Clang 15.0.0 (clang-1500.0.40.1)]\n",
      "module://matplotlib_inline.backend_inline\n",
      "['GTK3Agg', 'GTK3Cairo', 'GTK4Agg', 'GTK4Cairo', 'MacOSX', 'nbAgg', 'QtAgg', 'QtCairo', 'Qt5Agg', 'Qt5Cairo', 'TkAgg', 'TkCairo', 'WebAgg', 'WX', 'WXAgg', 'WXCairo', 'agg', 'cairo', 'pdf', 'pgf', 'ps', 'svg', 'template']\n"
     ]
    }
   ],
   "source": [
    "import sys\n",
    "print(sys.version)\n",
    "\n",
    "import matplotlib\n",
    "print(matplotlib.get_backend())\n",
    "\n",
    "print(matplotlib.rcsetup.all_backends)"
   ]
  },
  {
   "cell_type": "code",
   "execution_count": 5,
   "id": "452c13e7-a5c3-4c4a-bb83-9abbc2bfb745",
   "metadata": {},
   "outputs": [
    {
     "name": "stdout",
     "output_type": "stream",
     "text": [
      "\n"
     ]
    }
   ],
   "source": [
    "!echo $DISPLAY"
   ]
  },
  {
   "cell_type": "code",
   "execution_count": 6,
   "id": "e7e2a52f-39d3-440b-b25d-73794299c6cc",
   "metadata": {},
   "outputs": [
    {
     "name": "stdout",
     "output_type": "stream",
     "text": [
      "GUI environment is available.\n"
     ]
    }
   ],
   "source": [
    "import tkinter\n",
    "try:\n",
    "    tkinter.Tk().withdraw()  # Open and then close a basic window\n",
    "    print(\"GUI environment is available.\")\n",
    "except tkinter.TclError:\n",
    "    print(\"GUI environment is not available.\")\n"
   ]
  },
  {
   "cell_type": "code",
   "execution_count": null,
   "id": "5e1a0b80-2629-483c-ab5c-eba7a25c5baa",
   "metadata": {},
   "outputs": [],
   "source": []
  }
 ],
 "metadata": {
  "kernelspec": {
   "display_name": "Python (Men in Black)",
   "language": "python",
   "name": ".venv"
  },
  "language_info": {
   "codemirror_mode": {
    "name": "ipython",
    "version": 3
   },
   "file_extension": ".py",
   "mimetype": "text/x-python",
   "name": "python",
   "nbconvert_exporter": "python",
   "pygments_lexer": "ipython3",
   "version": "3.9.6"
  }
 },
 "nbformat": 4,
 "nbformat_minor": 5
}
